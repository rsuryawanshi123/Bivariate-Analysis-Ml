{
  "nbformat": 4,
  "nbformat_minor": 0,
  "metadata": {
    "colab": {
      "provenance": [],
      "authorship_tag": "ABX9TyNaD0iotnjRTzJN35rAec99",
      "include_colab_link": true
    },
    "kernelspec": {
      "name": "python3",
      "display_name": "Python 3"
    },
    "language_info": {
      "name": "python"
    }
  },
  "cells": [
    {
      "cell_type": "markdown",
      "metadata": {
        "id": "view-in-github",
        "colab_type": "text"
      },
      "source": [
        "<a href=\"https://colab.research.google.com/github/rsuryawanshi123/Bivariate-Analysis-Ml/blob/main/Python_Basics.ipynb\" target=\"_parent\"><img src=\"https://colab.research.google.com/assets/colab-badge.svg\" alt=\"Open In Colab\"/></a>"
      ]
    },
    {
      "cell_type": "markdown",
      "source": [
        "Programming Languages used for Machine Learning\n",
        "\n",
        "1. Python\n",
        "2. R"
      ],
      "metadata": {
        "id": "O6mS7HGBCCon"
      }
    },
    {
      "cell_type": "markdown",
      "source": [
        "Print Function"
      ],
      "metadata": {
        "id": "MhddY_ERCWMf"
      }
    },
    {
      "cell_type": "code",
      "source": [
        "print(\"Machine Learning\")"
      ],
      "metadata": {
        "colab": {
          "base_uri": "https://localhost:8080/"
        },
        "id": "OTOsIIxICHNM",
        "outputId": "ffc06290-bc23-4c58-a481-2bdc7a77d55e"
      },
      "execution_count": 1,
      "outputs": [
        {
          "output_type": "stream",
          "name": "stdout",
          "text": [
            "Machine Learning\n"
          ]
        }
      ]
    },
    {
      "cell_type": "code",
      "source": [
        "print(\"Machine Learning\" + \" Projects\")"
      ],
      "metadata": {
        "colab": {
          "base_uri": "https://localhost:8080/"
        },
        "id": "GA9Ct6BPCgnS",
        "outputId": "1010e650-2801-4e24-83f1-04358312beb3"
      },
      "execution_count": 2,
      "outputs": [
        {
          "output_type": "stream",
          "name": "stdout",
          "text": [
            "Machine Learning Projects\n"
          ]
        }
      ]
    },
    {
      "cell_type": "code",
      "source": [
        "print(64)"
      ],
      "metadata": {
        "colab": {
          "base_uri": "https://localhost:8080/"
        },
        "id": "5zaKF7EfCsFF",
        "outputId": "215f1a81-124b-4d58-b22b-b314a29fe2d8"
      },
      "execution_count": 3,
      "outputs": [
        {
          "output_type": "stream",
          "name": "stdout",
          "text": [
            "64\n"
          ]
        }
      ]
    },
    {
      "cell_type": "code",
      "source": [
        "print(34+32)\n"
      ],
      "metadata": {
        "colab": {
          "base_uri": "https://localhost:8080/"
        },
        "id": "WgbIzn6XCyM9",
        "outputId": "79638348-c88a-4597-e9d0-7f39859c3e10"
      },
      "execution_count": 5,
      "outputs": [
        {
          "output_type": "stream",
          "name": "stdout",
          "text": [
            "66\n"
          ]
        }
      ]
    },
    {
      "cell_type": "code",
      "source": [],
      "metadata": {
        "id": "LGCj7p7eDGWB"
      },
      "execution_count": null,
      "outputs": []
    },
    {
      "cell_type": "markdown",
      "source": [
        "#Basic Data types\n",
        "1. int\n",
        "2. float\n",
        "3. str"
      ],
      "metadata": {
        "id": "bHU9zzQxDG3Z"
      }
    },
    {
      "cell_type": "code",
      "source": [
        "type(34)"
      ],
      "metadata": {
        "colab": {
          "base_uri": "https://localhost:8080/"
        },
        "id": "XqmbPIOoDlU5",
        "outputId": "d6229d71-1b81-4952-d792-76d88fe1a36d"
      },
      "execution_count": 6,
      "outputs": [
        {
          "output_type": "execute_result",
          "data": {
            "text/plain": [
              "int"
            ]
          },
          "metadata": {},
          "execution_count": 6
        }
      ]
    },
    {
      "cell_type": "code",
      "source": [
        "type(4.5)"
      ],
      "metadata": {
        "colab": {
          "base_uri": "https://localhost:8080/"
        },
        "id": "Y6QkU77CDm9N",
        "outputId": "c2f79e87-2065-4d79-ed82-150e26c3c90e"
      },
      "execution_count": 7,
      "outputs": [
        {
          "output_type": "execute_result",
          "data": {
            "text/plain": [
              "float"
            ]
          },
          "metadata": {},
          "execution_count": 7
        }
      ]
    },
    {
      "cell_type": "code",
      "source": [
        "type(\"Marathi and english\")"
      ],
      "metadata": {
        "colab": {
          "base_uri": "https://localhost:8080/"
        },
        "id": "zOdogtvZDq6e",
        "outputId": "c5e40395-c1e7-45da-8467-ff4a8d08707e"
      },
      "execution_count": 9,
      "outputs": [
        {
          "output_type": "execute_result",
          "data": {
            "text/plain": [
              "str"
            ]
          },
          "metadata": {},
          "execution_count": 9
        }
      ]
    },
    {
      "cell_type": "markdown",
      "source": [
        "##Constant Variables"
      ],
      "metadata": {
        "id": "uaegfDFmD2sH"
      }
    },
    {
      "cell_type": "code",
      "source": [
        "A = \"Deep Learning and Machine Learning\"\n",
        "print(A)"
      ],
      "metadata": {
        "colab": {
          "base_uri": "https://localhost:8080/"
        },
        "id": "4rgpSpN9D9TE",
        "outputId": "16c93345-4fe8-4550-c045-1c6ea8b4484a"
      },
      "execution_count": 10,
      "outputs": [
        {
          "output_type": "stream",
          "name": "stdout",
          "text": [
            "Deep Learning and Machine Learning\n"
          ]
        }
      ]
    },
    {
      "cell_type": "code",
      "source": [
        "x=y=z=23\n",
        "print(x)\n",
        "print(y)\n",
        "print(z)"
      ],
      "metadata": {
        "colab": {
          "base_uri": "https://localhost:8080/"
        },
        "id": "KUclbXFVEIPo",
        "outputId": "a902461d-4229-463a-ec67-375975ab636e"
      },
      "execution_count": 13,
      "outputs": [
        {
          "output_type": "stream",
          "name": "stdout",
          "text": [
            "23\n",
            "23\n",
            "23\n"
          ]
        }
      ]
    },
    {
      "cell_type": "markdown",
      "source": [
        "#Input Functions"
      ],
      "metadata": {
        "id": "C5hJcYAFEln5"
      }
    },
    {
      "cell_type": "code",
      "source": [
        "A = int(input(\"enter the one digit number= \"))\n",
        "B = int(input(\"enter the two digit number= \"))\n",
        "print(A+B)\n"
      ],
      "metadata": {
        "colab": {
          "base_uri": "https://localhost:8080/"
        },
        "id": "Kw-ZYviQEqAH",
        "outputId": "85c4648e-146e-4f22-a2ec-cf68ac3df9b3"
      },
      "execution_count": 18,
      "outputs": [
        {
          "output_type": "stream",
          "name": "stdout",
          "text": [
            "enter the one digit number= 90\n",
            "enter the two digit number= 09\n",
            "99\n"
          ]
        }
      ]
    },
    {
      "cell_type": "markdown",
      "source": [
        "##Changing the data type in python"
      ],
      "metadata": {
        "id": "xV6TjAKpFRYN"
      }
    },
    {
      "cell_type": "code",
      "source": [
        "num = 32\n",
        "print(float(num))"
      ],
      "metadata": {
        "colab": {
          "base_uri": "https://localhost:8080/"
        },
        "id": "SuknEgWSFUsC",
        "outputId": "35b8a7fe-cf31-4464-ff60-a0ca40dab4fc"
      },
      "execution_count": 19,
      "outputs": [
        {
          "output_type": "stream",
          "name": "stdout",
          "text": [
            "32.0\n"
          ]
        }
      ]
    },
    {
      "cell_type": "code",
      "source": [],
      "metadata": {
        "id": "5UZCB71iFaar"
      },
      "execution_count": null,
      "outputs": []
    }
  ]
}